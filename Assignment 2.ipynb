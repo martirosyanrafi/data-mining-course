{
 "cells": [
  {
   "cell_type": "markdown",
   "metadata": {},
   "source": [
    "# Assignment 2"
   ]
  },
  {
   "cell_type": "code",
   "execution_count": 1,
   "metadata": {},
   "outputs": [
    {
     "data": {
      "text/plain": [
       "'author: Rafi Martirosyan'"
      ]
     },
     "execution_count": 1,
     "metadata": {},
     "output_type": "execute_result"
    }
   ],
   "source": [
    "\"author: Rafi Martirosyan\""
   ]
  },
  {
   "cell_type": "code",
   "execution_count": 2,
   "metadata": {},
   "outputs": [],
   "source": [
    "import pandas as pd\n",
    "import numpy as np\n",
    "import matplotlib.pyplot as plt"
   ]
  },
  {
   "cell_type": "markdown",
   "metadata": {},
   "source": [
    "### Extra Task\n",
    "Implement matrix multiplication of two matrices"
   ]
  },
  {
   "cell_type": "code",
   "execution_count": 3,
   "metadata": {},
   "outputs": [],
   "source": [
    "def matrix_multiplication(x, y):\n",
    "    result = np.zeros((len(x), len(y[0])))\n",
    "    \n",
    "    for i in range(len(x)):\n",
    "       for j in range(len(y[0])):\n",
    "           for k in range(len(y)):\n",
    "               result[i][j] += x[i][k] * y[k][j]\n",
    "    \n",
    "    return result"
   ]
  },
  {
   "cell_type": "markdown",
   "metadata": {},
   "source": [
    "### Extra Task\n",
    "Implement Hadamard product of two matrices"
   ]
  },
  {
   "cell_type": "code",
   "execution_count": 4,
   "metadata": {},
   "outputs": [],
   "source": [
    "def hadamard_product(x, y):\n",
    "    result = np.zeros((len(x), len(x[0])))\n",
    "    \n",
    "    for i in range(len(x)):\n",
    "       for j in range(len(x[0])):\n",
    "           result[i][j] = x[i][j] * y[i][j]\n",
    "    \n",
    "    return result"
   ]
  },
  {
   "cell_type": "markdown",
   "metadata": {},
   "source": [
    "### Data "
   ]
  },
  {
   "cell_type": "markdown",
   "metadata": {},
   "source": [
    "#### Please use HW_gender data from Assignment 1. Use the weight to predict the height of a person. You can try different variants: per gender or for overall data. Please argue why did you prefer one variant over another in the report. "
   ]
  },
  {
   "cell_type": "code",
   "execution_count": 5,
   "metadata": {},
   "outputs": [],
   "source": [
    "data = pd.read_csv(\"HW_gender.csv\")"
   ]
  },
  {
   "cell_type": "markdown",
   "metadata": {},
   "source": [
    "# Linear Regression "
   ]
  },
  {
   "cell_type": "markdown",
   "metadata": {},
   "source": [
    "### Implement \"loss\" function\n",
    "### Implement \"fit\" function gradient descent \n",
    "### Implement \"predict\" function gradient descent "
   ]
  },
  {
   "cell_type": "code",
   "execution_count": 6,
   "metadata": {},
   "outputs": [
    {
     "name": "stdout",
     "output_type": "stream",
     "text": [
      "[7.71728763] -350.7371912599485\n"
     ]
    }
   ],
   "source": [
    "class LinearRegression():\n",
    "    \n",
    "    def __init__(self, learning_rate, iterations):\n",
    "        self.learning_rate = learning_rate \n",
    "        self.iterations = iterations\n",
    "        self.history = []\n",
    "                 \n",
    "    def fit(self, X, Y):\n",
    "        self.m, self.n = X.shape\n",
    "          \n",
    "        self.W = np.zeros(self.n)\n",
    "        self.b = 0\n",
    "        self.X = X\n",
    "        self.Y = Y\n",
    "                  \n",
    "        for i in range(self.iterations):\n",
    "            self.update_weights()\n",
    "              \n",
    "        return self\n",
    "       \n",
    "    def update_weights(self):  \n",
    "        Y_pred = self.predict(self.X)\n",
    "          \n",
    "        dW = -(2 * (self.X.T).dot(self.Y - Y_pred)) / self.m\n",
    "        db = -2 * np.sum(self.Y - Y_pred) / self.m \n",
    "          \n",
    "        self.W = self.W - self.learning_rate * dW\n",
    "        self.b = self.b - self.learning_rate * db\n",
    "        \n",
    "        self.history.append(self.mse())\n",
    "        \n",
    "        return self\n",
    "      \n",
    "    def predict(self, X):\n",
    "        return X.dot(self.W) + self.b \n",
    "    \n",
    "    def mse(self):\n",
    "        return np.mean((self.predict(self.X) - self.Y) ** 2) / 2\n",
    "    \n",
    "x = data.iloc[:, 1:2].values\n",
    "y = data.iloc[:,2].values\n",
    "\n",
    "def get_model(learning_rate):    \n",
    "    model = LinearRegression(iterations = 100000, learning_rate = learning_rate)\n",
    "\n",
    "    model.fit(x / 100, y / 100)\n",
    "    model.b *= 100\n",
    "    \n",
    "    return model\n",
    "\n",
    "model = get_model(0.1)\n",
    "print(model.W, model.b)"
   ]
  },
  {
   "cell_type": "markdown",
   "metadata": {},
   "source": [
    "### Depict the plot of loss over iterations\n",
    " "
   ]
  },
  {
   "cell_type": "code",
   "execution_count": 7,
   "metadata": {},
   "outputs": [
    {
     "data": {
      "image/png": "[encoded data removed]",
      "text/plain": [
       "<Figure size 432x288 with 1 Axes>"
      ]
     },
     "metadata": {
      "needs_background": "light"
     },
     "output_type": "display_data"
    }
   ],
   "source": [
    "def loss_plot(model):\n",
    "    plt.plot(range(len(model.history)), model.history)\n",
    "    plt.show()\n",
    "    \n",
    "loss_plot(model)"
   ]
  },
  {
   "cell_type": "markdown",
   "metadata": {},
   "source": [
    "### Choose the \"learning rate\" value, show the comparison to other values via loss plot\n",
    " "
   ]
  },
  {
   "cell_type": "code",
   "execution_count": null,
   "metadata": {},
   "outputs": [
    {
     "data": {
      "image/png": "[encoded data removed]",
      "text/plain": [
       "<Figure size 432x288 with 1 Axes>"
      ]
     },
     "metadata": {
      "needs_background": "light"
     },
     "output_type": "display_data"
    }
   ],
   "source": [
    "loss_plot(model)\n",
    "\n",
    "model2 = get_model(0.01)\n",
    "loss_plot(model2)\n",
    "\n",
    "model3 = get_model(0.001)\n",
    "loss_plot(model3)"
   ]
  },
  {
   "cell_type": "markdown",
   "metadata": {},
   "source": [
    "### Plot the regression line you have found\n",
    " "
   ]
  },
  {
   "cell_type": "code",
   "execution_count": null,
   "metadata": {},
   "outputs": [],
   "source": [
    "fig = plt.figure(figsize = (10, 6))\n",
    "ax = plt.subplot()\n",
    "ax.scatter(x, y)\n",
    "\n",
    "y2 = x * model.W + model.b\n",
    "ax.plot(x, y2, c = 'red')"
   ]
  }
 ],
 "metadata": {
  "kernelspec": {
   "display_name": "Python 3",
   "language": "python",
   "name": "python3"
  },
  "language_info": {
   "codemirror_mode": {
    "name": "ipython",
    "version": 3
   },
   "file_extension": ".py",
   "mimetype": "text/x-python",
   "name": "python",
   "nbconvert_exporter": "python",
   "pygments_lexer": "ipython3",
   "version": "3.8.5"
  }
 },
 "nbformat": 4,
 "nbformat_minor": 2
}
